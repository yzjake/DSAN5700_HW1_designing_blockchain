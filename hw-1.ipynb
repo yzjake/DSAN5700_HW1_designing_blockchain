{
 "cells": [
  {
   "attachments": {},
   "cell_type": "markdown",
   "metadata": {},
   "source": [
    "### 1 Blockchain Data Structure (15 points)\n",
    "Each blockchain starts with a genesis block. We will need to define this block function in object-oriented python. Here are the main Block components we will need:\n",
    "\n",
    "Index - The index of the block on the chain (zero-indexed).\n",
    "Timestamp – Time (T) when the block was added to the chain.\n",
    "data - The data the block contains (Usually points to the root of a Merkel tree, but we can use a common thread for this).\n",
    "previous_hash - The hash value of the previous block.\n",
    "hash - Hash of this block computed using the hash_block function.\n",
    "nonce - The variable value that we change to alter the hash output (Default value = 0, irrelevant in this section).\n",
    "We will need to define two functions in class Object named Block, and the two functions are __init__() (called dunder init) and blockHash(). The init function takes six inputs, including a self, from the list above (#5 above is the output). The blockHash function takes inputs from init in a string form, appends them, and encodes them through a SHA256 function.\n",
    "\n",
    "Import following libraries before developing the function hashlib, random, datetime, date, time, ipyparallel, numpy, matplotlib. Once done Copy the following code in new cell and run it. If you get valid block prompt your block code is correct."
   ]
  },
  {
   "cell_type": "code",
   "execution_count": 2,
   "metadata": {},
   "outputs": [],
   "source": [
    "import hashlib as hasher\n",
    "import random as rand\n",
    "import time\n",
    "import datetime as date\n",
    "import ipyparallel as ipp\n",
    "import numpy as np\n",
    "import pandas as pd\n",
    "import matplotlib.pyplot as plt"
   ]
  },
  {
   "cell_type": "code",
   "execution_count": 3,
   "metadata": {},
   "outputs": [],
   "source": [
    "class Block:\n",
    "    def __init__(self,index,timestamp,data, previous_hash,nonce=0):\n",
    "        self.index=index\n",
    "        self.timestamp = timestamp\n",
    "        self.data= data\n",
    "        self.nonce = nonce\n",
    "        self.previous_hash=previous_hash\n",
    "        self.hash=self.hash_block()\n",
    "\n",
    "    def hash_block(self):\n",
    "        sha=hasher.sha256()\n",
    "        block_hash=(str(self.index) + \n",
    "                    str(self.timestamp) +\n",
    "                    str(self.data) +\n",
    "                    str(self.previous_hash) +\n",
    "                    str(self.nonce)\n",
    "                    )\n",
    "        block_hash = block_hash.encode('utf-8')\n",
    "        sha.update(block_hash)\n",
    "        return sha.hexdigest()\n",
    "        print(sha.hexdigest())"
   ]
  },
  {
   "cell_type": "code",
   "execution_count": 4,
   "metadata": {},
   "outputs": [
    {
     "name": "stdout",
     "output_type": "stream",
     "text": [
      "260b5039394689051b599484df495d79a6a33d22a3ca37af72656d8cdfc6fcd5\n"
     ]
    }
   ],
   "source": [
    "block_time = '2022-02-13 23:59:00'\n",
    "data = 'Blockchain For Data Science'\n",
    "previous_hash = '9136cfeb0c77b41e1e86cb9940ca9bb65f7aca4e8e366a8ecf9226b735e0c323'\n",
    "index = 1\n",
    "new_block= Block(index,block_time, data, previous_hash)\n",
    "print(new_block.hash)"
   ]
  },
  {
   "cell_type": "code",
   "execution_count": 5,
   "metadata": {},
   "outputs": [
    {
     "name": "stdout",
     "output_type": "stream",
     "text": [
      "This is a valid Block\n"
     ]
    }
   ],
   "source": [
    "def block_validation(index, block_time, data, previous_hash):\n",
    "    new_block = Block(index, block_time, data, previous_hash)\n",
    "    check_string = '260b5039394689051b599484df495d79a6a33d22a3ca37af72656d8cdfc6fcd5'\n",
    "    print_statement = \"This is a valid Block\" if str(new_block.hash) == check_string else \"Please Check your work, this is incorrect.\"\n",
    "    print(print_statement)\n",
    "    \n",
    "block_time = '2022-02-13 23:59:00'\n",
    "data = 'Blockchain For Data Science'\n",
    "previous_hash = '9136cfeb0c77b41e1e86cb9940ca9bb65f7aca4e8e366a8ecf9226b735e0c323'\n",
    "index = 1\n",
    "    \n",
    "block_validation(index, block_time, data, previous_hash)"
   ]
  },
  {
   "cell_type": "markdown",
   "metadata": {},
   "source": [
    "### 2 Creating a chain out of single blocks\n",
    "Now that we have our class Block completed, we need to build a chain out of them. Define a function that creates a genesis_block(). This will generate the first block of the chain. Then create the function new_block(), which builds a new block on top of a given block.\n",
    "\n",
    "The genesis_block() function has index = 0, timestamp = Now (whenever the function is being called), data = \"Genesis Block\", previous_hash = \"0\" and a return. Be careful with NOW function (it requires datetime from date package).\n",
    "\n",
    "New_block() function will take inputs:\n",
    "\n",
    "Last_block = an instance of class Block that is the block that we’re building our next block on top of\n",
    "index = index of last_block + 1\n",
    "timestamp = Now (whenever the function is being called)\n",
    "data = “Block {index} generated” (for example block w/ index 5 would have data: “Block 5 generated”)\n",
    "previous_hash = hash of last_block\n",
    "Once the function is generated, use the following code to test the validity"
   ]
  },
  {
   "cell_type": "code",
   "execution_count": 6,
   "metadata": {},
   "outputs": [],
   "source": [
    "def create_genesis_block():\n",
    "    return Block(0,date.datetime.now(),\"Genesis Block\",\"0\")\n",
    "\n",
    "def next_block(last_block,nonce=0):\n",
    "    this_index=last_block.index + 1\n",
    "    this_timestamp = date.datetime.now()\n",
    "    this_data = \"Block \"+ str(this_index)+ \" generated\"\n",
    "    this_prevhash= last_block.hash\n",
    "    return Block(this_index, this_timestamp, this_data,this_prevhash)\n",
    "\n",
    "genesis_block=create_genesis_block()\n"
   ]
  },
  {
   "cell_type": "code",
   "execution_count": 7,
   "metadata": {},
   "outputs": [
    {
     "name": "stdout",
     "output_type": "stream",
     "text": [
      "Valid Genesis block\n"
     ]
    }
   ],
   "source": [
    "def genesis_validation(genesis_block):\n",
    "    block_1 = next_block(genesis_block)\n",
    "    if block_1.index == 1 and block_1.data == \"Block 1 generated\" and block_1.previous_hash == genesis_block.hash and str(type(block_1.timestamp)) == \"<class 'datetime.datetime'>\":\n",
    "        print(\"Valid Genesis block\" )\n",
    "    else:\n",
    "        print(\"Check the code, not a valid genesis block:(\")\n",
    "\n",
    "genesis_validation(genesis_block)"
   ]
  },
  {
   "cell_type": "markdown",
   "metadata": {},
   "source": [
    "### 3 Generating a complete Blockchain\n",
    "We now have a complete program required to create a chain. We need variables blockchain, previous_block, and num_blocks functions to generate a chain for a specified number of blocks. Use num_blocks as 10.\n",
    "\n",
    "Blockchain is used to initialize with the genesis block inside, initialied as a list.\n",
    "previous_block – points to the genesis block\n",
    "num_blocks – the specific number of blocks to add to the chain. For the assignment, use 10.\n",
    "We want to complete the implementation of the function complete_chain(). It will take the above three inputs, which correspond to the initializations that we made.\n",
    "\n",
    "The function will need a for loop from 0 to numblocks. Inside the loop, we will use newblock() function from #2 to add to the block list.\n",
    "Once the block is generated, we will append it to the blockchain array generated above.\n",
    "We will now set the block from step 1 as previous_block.\n",
    "Print (\"the block #{} is added to the blockchain\".format(addedblock.index)).\n",
    "Print(\"Hash : {}\\n\".format(addedblock.hash)).\n",
    "You will see ten blocks with their hashes."
   ]
  },
  {
   "cell_type": "code",
   "execution_count": 8,
   "metadata": {},
   "outputs": [
    {
     "name": "stdout",
     "output_type": "stream",
     "text": [
      "Block #1 is added to the blockchain\n",
      "Hash : dbf4f0a162da0342f2d13c2718428a23894cf4d9f9df5b9df3332f2d25a90735\n",
      "\n",
      "Block #2 is added to the blockchain\n",
      "Hash : 9247599f212611588b26a0377dbda49c3628eadcbf5343581cd1a1eebd6648e3\n",
      "\n",
      "Block #3 is added to the blockchain\n",
      "Hash : 7011b184220576378e1339dadc9f853c5202b18124d97e392228d56ea50be20a\n",
      "\n",
      "Block #4 is added to the blockchain\n",
      "Hash : 2a0cbafa8ff92fad88ddc4bada57c46d93159928497454782ab0ec130fb9fc75\n",
      "\n",
      "Block #5 is added to the blockchain\n",
      "Hash : 7dad9d9d1dee8be9dac207093572028260475fe9f52791c68fb40a8b08f8562b\n",
      "\n",
      "Block #6 is added to the blockchain\n",
      "Hash : 4d5c9c74f651153545c7407ff0f0fc58c981a0e665e17bf8331a8745e2020ef8\n",
      "\n",
      "Block #7 is added to the blockchain\n",
      "Hash : 2a26ddd011a6cfe9184d9446dc521b270532c5eb82e58c2d024394a13bb28a86\n",
      "\n",
      "Block #8 is added to the blockchain\n",
      "Hash : 4bf3a647f6536b1ffebfae059556477a59797e0d352bc433a29b6897c8b3e70a\n",
      "\n",
      "Block #9 is added to the blockchain\n",
      "Hash : b96d2ff4cf1eb99c0d743668780bd0adde7c790f31d7b481c330a4f47cedec19\n",
      "\n",
      "Block #10 is added to the blockchain\n",
      "Hash : e04e6aa59e0e6a772e37b76ab9aa2176f878e4e759d20e3df9ea20e39985c2bf\n",
      "\n"
     ]
    }
   ],
   "source": [
    "blockchain=[create_genesis_block()]\n",
    "previous_block = blockchain[0]\n",
    "\n",
    "num_blocks=10\n",
    "\n",
    "def complete_chain(num_blocks,blockchain,previous_block):\n",
    "    for i in range(0, num_blocks):\n",
    "        addedblock = next_block(previous_block)\n",
    "        blockchain.append(addedblock)\n",
    "        previous_block=addedblock\n",
    "\n",
    "        print(\"Block #{} is added to the blockchain\".format(addedblock.index))\n",
    "        print(\"Hash : {}\\n\".format(addedblock.hash))\n",
    "\n",
    "complete_chain(num_blocks,blockchain, previous_block)"
   ]
  },
  {
   "attachments": {},
   "cell_type": "markdown",
   "metadata": {},
   "source": [
    "### 4 Nonce and Difficulty\n",
    "Now let’s make the blockchain more realistic by adding the proof-of-work consensus mechanism that Bitcoin’s Blockchain uses. We need to look at two concepts for proof of work simulation, Nonce, and Difficulty.\n",
    "\n",
    "The Nonce – A randomly generated value added to the blocks to vary block hashes.\n",
    "The network specifies the difficulty. We will set this for the assignment. It defines the valid hashes (number of) out of all possible values. Greater difficulty indicates a lower number of valid hashes.\n",
    "\n",
    "#### 4.1 Define function generate_nonce()\n",
    "There are multiple ways to develop generate_nonce(). Since this is a regular n digit random number, we can use any of the methods below. Although we just need one method, you might be able to explore the ones you like. Computers can not generate true random numbers, so they use pseudo-random numbers.\n",
    "\n",
    "We can use randint function to generate a number between a and b. There is a limitation to this. What is that limitation?\n",
    "nonce = secrets.token_urlsafe() generates cryptographically strong random numbers\n",
    "and many others, explore.\n",
    "\n",
    "#### 4.2 Define function generate_difficulty_bound()\n",
    "This is a bit harder to conceptualize. Bitcoin usually look for the number of zeros in front of a hash to define the difficulty. See the note on Bitcoin Difficulty for this. The function takes only one argument generate_difficulty_bound(difficulty=1)\n",
    "\n",
    "Initiate an empty string that will hold our difficulty hash\n",
    "We now need to generate a hex string that starts with zeros of size equal to “difficulty.” So if difficulty =1, then the string will have 1 leading zero, difficulty=2 will have 2 leading zeros. Use a for loop to generate this and append it to the string in 1.\n",
    "In the same function, define a for loop to append a hex character, F. This loop should run for the range of length (64-difficulty).\n",
    "We also need to prepend 0x to the now completely formed string.\n",
    "This function should return the integer value from the string with a base 16 (since this is a hex code).\n",
    "\n",
    "#### 4.3 Engineer a nonce given the previous block’s hash and difficulty\n",
    "The function find_next_block() tries different blocks with the same data, index etc. but different nonces that satisfy the difficulty metric specified. This function takes three arguments find_next_block(last_block, difficulty, nonce_length)\n",
    "\n",
    "Create variable start_time = time.process_time().\n",
    "Create a variable that stores generate_difficulty_bound(difficulty).\n",
    "Create a variable that sets next_block(last_block).\n",
    "Create a variable that stores the hashes tried and set the start value to `1 (hashtried=1). You will increment this in every loop.\n",
    "Create a while loop that conditionally tests the hash of the new block (in hex, so int(new_block.hash, 16)) to be greater than the difficultybound variable from #2 above.\n",
    "Create a variable nonce to store generate_nonce(nonce_length value)\n",
    "Create a new_block variable that used Block() function from assignment 1 (sine you are using the same file as Assignment 1, it should be able to recognize the function).\n",
    "Increment hashtried by 1 (hashtried +=1)\n",
    "time_taken = time.process_time() – start_time will calculate the time for finding the block.\n",
    "Return the value of time taken, hashtried, and new_block"
   ]
  },
  {
   "cell_type": "code",
   "execution_count": 9,
   "metadata": {},
   "outputs": [],
   "source": [
    "#4.1 Define function generate_nonce()\n",
    "def generate_nonce(length=20):\n",
    "    return ''.join([str(rand.randint(0, 9)) for i in range(length)])\n",
    "\n",
    "#4.2 Define function generate_difficulty_bound()\n",
    "def generate_difficulty_bound(difficulty=1):\n",
    "    diff_str=\"\"\n",
    "    for i in range(0,difficulty):\n",
    "        diff_str+=\"0\"\n",
    "    for i in range(0,64-difficulty):\n",
    "        diff_str+=\"F\"\n",
    "    diff_str = \"0x\"+diff_str\n",
    "    return(int(diff_str,16))\n",
    "\n",
    "#4.3 Engineer a nonce given the previous block’s hash and difficulty\n",
    "def find_next_block(last_block, difficulty, nonce_length):\n",
    "    difficulty_bound = generate_difficulty_bound(difficulty)\n",
    "    start = time.process_time()\n",
    "    new_block = next_block(last_block)\n",
    "    hashes_tried = 1\n",
    "    while int(new_block.hash,16) > difficulty_bound:\n",
    "        nonce = generate_nonce(nonce_length)\n",
    "        new_block = Block(new_block.index, new_block.timestamp, new_block.data, new_block.previous_hash, nonce)\n",
    "        hashes_tried += 1\n",
    "    time_taken = time.process_time() - start   \n",
    "    return time_taken, hashes_tried, new_block"
   ]
  },
  {
   "attachments": {},
   "cell_type": "markdown",
   "metadata": {},
   "source": [
    "#### 4.4 Blockchain with proof of work\n",
    "We now need to create a blockchain with proof of work simulation.\n",
    "\n",
    "Create a function create_blockchain that takes variables\n",
    "num_blocks\n",
    "difficulty\n",
    "blockchain\n",
    "previous_block\n",
    "nonce_length\n",
    "broadcast=1\n",
    "Initiate two arrays to store hash and time so we can record the details.\n",
    "Initiate a for loop to run for number of blocks (0, numblocks)\n",
    "Set the timetaken, hashestried, block_to_add to take values from find_next_block function from #4.3\n",
    "Append block_to_add to the blockchain array\n",
    "Set previousblock to be newly generated block (block_to_add)\n",
    "Append hash tried to hasharray\n",
    "Append time taken to time time\n",
    "Time to broadcast this to the network (broadcast=1, default value) is a binary input that prints:\n",
    "Block number added to the chain\n",
    "Number of hashes tried before solving the puzzle\n",
    "Time to find the block\n",
    "Hash of the current block\n",
    "Returns the hash and, time arrays\n"
   ]
  },
  {
   "cell_type": "code",
   "execution_count": 10,
   "metadata": {},
   "outputs": [
    {
     "name": "stdout",
     "output_type": "stream",
     "text": [
      "Block #1 has been added to the blockchain!\n",
      "5973 Hashes Tried!\n",
      "Time taken to find block: 0.04564800000000002\n",
      "Hash: 0002cc26ce3be6b0d122cda759f66624043a54b8a85097d116268e4681d00c4a\n",
      "\n",
      "Block #2 has been added to the blockchain!\n",
      "4708 Hashes Tried!\n",
      "Time taken to find block: 0.03329599999999999\n",
      "Hash: 000b715ba4d6d5ad1a7d7bfb8530a8a2883224b42c7ac62999863e05d5011a96\n",
      "\n",
      "Block #3 has been added to the blockchain!\n",
      "2367 Hashes Tried!\n",
      "Time taken to find block: 0.01687799999999995\n",
      "Hash: 0003330f977649eab81b4ad34a262c9992e5c4b21afcd565a289376a7a9e026d\n",
      "\n",
      "Block #4 has been added to the blockchain!\n",
      "7219 Hashes Tried!\n",
      "Time taken to find block: 0.052071999999999896\n",
      "Hash: 0001ab3f9f35f71851abedbb1d226ffff6823c1e9d9e6185572ab04a9f3c7da8\n",
      "\n",
      "Block #5 has been added to the blockchain!\n",
      "120 Hashes Tried!\n",
      "Time taken to find block: 0.0009470000000000312\n",
      "Hash: 000ebb11d72e326f1dea36754fa15a4b109fbb77a993f73976fcd36712ac6c24\n",
      "\n",
      "Block #6 has been added to the blockchain!\n",
      "14043 Hashes Tried!\n",
      "Time taken to find block: 0.09968099999999991\n",
      "Hash: 000583024cf5347dc28310f7ab9ce53bb2891ee1e0b38897ced61f3c9d2002af\n",
      "\n",
      "Block #7 has been added to the blockchain!\n",
      "2525 Hashes Tried!\n",
      "Time taken to find block: 0.018057999999999907\n",
      "Hash: 0008f6d0e284504956c0a85e418c90f5376f0eca0839c25ff9a96863a1e9c389\n",
      "\n",
      "Block #8 has been added to the blockchain!\n",
      "3188 Hashes Tried!\n",
      "Time taken to find block: 0.02200599999999997\n",
      "Hash: 00042cf062dcb085f23f88b8674803c94dcc2833a919950e17fe20e5e31c9e5e\n",
      "\n",
      "Block #9 has been added to the blockchain!\n",
      "2726 Hashes Tried!\n",
      "Time taken to find block: 0.01901100000000011\n",
      "Hash: 00038884a96779254fcf7de643cb2a754c5e8ce3ab69c61004ab98aa05dae871\n",
      "\n",
      "Block #10 has been added to the blockchain!\n",
      "1634 Hashes Tried!\n",
      "Time taken to find block: 0.011932999999999971\n",
      "Hash: 00004b9448c56531f8cdd0b960c467847b8d29f4467b59e8a93560396617993a\n",
      "\n",
      "Block #11 has been added to the blockchain!\n",
      "2659 Hashes Tried!\n",
      "Time taken to find block: 0.018637000000000015\n",
      "Hash: 00046f46647e75e73b5e9bcd798a3118d03ff5d98fe4d7f9bed66f4e0291a7aa\n",
      "\n",
      "Block #12 has been added to the blockchain!\n",
      "5303 Hashes Tried!\n",
      "Time taken to find block: 0.03728600000000015\n",
      "Hash: 0004e85cc3ba20855c3d4072e16a836396e8919f94eb4f0bbe86fe97417df7e1\n",
      "\n",
      "Block #13 has been added to the blockchain!\n",
      "5549 Hashes Tried!\n",
      "Time taken to find block: 0.03980399999999995\n",
      "Hash: 0006dc9ccf59b7dd63e38209ecf7fdcfbc96e6cdb89f808cb0edcd00781ccdbf\n",
      "\n",
      "Block #14 has been added to the blockchain!\n",
      "1540 Hashes Tried!\n",
      "Time taken to find block: 0.010822999999999805\n",
      "Hash: 00017418a04f5eb533ef8b07d2ed7a8fed9730d52bb0ff0ac821663e6ebadd02\n",
      "\n",
      "Block #15 has been added to the blockchain!\n",
      "24266 Hashes Tried!\n",
      "Time taken to find block: 0.1723990000000002\n",
      "Hash: 0004643b61875f76491fc84d19ebb7bac53a6a8a1be6baaafe1bba004ba4b748\n",
      "\n",
      "Block #16 has been added to the blockchain!\n",
      "2587 Hashes Tried!\n",
      "Time taken to find block: 0.01811700000000016\n",
      "Hash: 000a6ec8fbc1eb747da4caaf9170637063bbd7fefc26ed6d03e1b6a2965e4313\n",
      "\n",
      "Block #17 has been added to the blockchain!\n",
      "377 Hashes Tried!\n",
      "Time taken to find block: 0.0026060000000001082\n",
      "Hash: 0000251c3189cd093e1bdc34c6a46e0f65af417049c70e77218e78b9f472c9c1\n",
      "\n",
      "Block #18 has been added to the blockchain!\n",
      "174 Hashes Tried!\n",
      "Time taken to find block: 0.0011929999999999996\n",
      "Hash: 0003737a08e33fd64969101de3d9f45507b8b64bbda127c76f73f83447f09802\n",
      "\n",
      "Block #19 has been added to the blockchain!\n",
      "5684 Hashes Tried!\n",
      "Time taken to find block: 0.03943399999999997\n",
      "Hash: 000b98bc688862b44198375554dd67d13808728495202d6e90edc77296b8f6d5\n",
      "\n",
      "Block #20 has been added to the blockchain!\n",
      "4057 Hashes Tried!\n",
      "Time taken to find block: 0.02827399999999991\n",
      "Hash: 000c4aeacac0fa05fa700ef091c2f5c5826d58fcbc188250f90bf971883ec0b6\n",
      "\n"
     ]
    }
   ],
   "source": [
    "#4.4 Blockchain with proof of work\n",
    "blockchain = [create_genesis_block()]\n",
    "previous_block = blockchain[0]\n",
    "num_blocks = 20\n",
    "difficulty = 3 \n",
    "nonce_length = 10\n",
    "\n",
    "def create_blockchain(num_blocks, difficulty, blockchain, previous_block, nonce_length, broadcast=1):\n",
    "    hash_array = []\n",
    "    time_array = []\n",
    "    for i in range(0, num_blocks):\n",
    "        time_taken, hashes_tried, block_to_add = find_next_block(previous_block, difficulty, nonce_length)\n",
    "        blockchain.append(block_to_add)\n",
    "        previous_block = block_to_add\n",
    "        hash_array.append(hashes_tried)\n",
    "        time_array.append(time_taken)\n",
    "        if broadcast==1:\n",
    "            print(\"Block #{} has been added to the blockchain!\".format(block_to_add.index))\n",
    "            print(\"{} Hashes Tried!\".format(hashes_tried))\n",
    "            print(\"Time taken to find block: {}\".format(time_taken))\n",
    "            print(\"Hash: {}\\n\".format(block_to_add.hash))     \n",
    "    return(hash_array, time_array)\n",
    "\n",
    "hash_array, time_array = create_blockchain(num_blocks, difficulty, blockchain, previous_block, nonce_length, broadcast=1)"
   ]
  },
  {
   "cell_type": "code",
   "execution_count": 11,
   "metadata": {},
   "outputs": [
    {
     "name": "stdout",
     "output_type": "stream",
     "text": [
      "PASSED!!! Move on to the next Part\n"
     ]
    }
   ],
   "source": [
    "def blockchain_proof(blockchain, num_blocks):\n",
    "    correct = True\n",
    "    bound = generate_difficulty_bound(difficulty)\n",
    "    if len(blockchain) != num_blocks + 1:\n",
    "        correct = False\n",
    "    for i in range(len(blockchain) - 1):\n",
    "        if blockchain[i + 1].previous_hash != blockchain[i].hash:\n",
    "            correct = False\n",
    "            break\n",
    "        if int(blockchain[i + 1].hash, 16) > bound:\n",
    "            correct = False\n",
    "            break\n",
    "    print_statement = \"PASSED!!! Move on to the next Part\" if correct else \"FAILED!!! Try Again :(\"\n",
    "    print(print_statement)\n",
    "            \n",
    "blockchain_proof(blockchain, num_blocks)"
   ]
  },
  {
   "attachments": {},
   "cell_type": "markdown",
   "metadata": {},
   "source": [
    "### 5 Distributed Network\n",
    "Using the following function, we will generate multiple miners. Please look at the code and explain what the entire class is doing (around two paragraphs)"
   ]
  },
  {
   "cell_type": "code",
   "execution_count": 12,
   "metadata": {},
   "outputs": [],
   "source": [
    "#5 Distributed Network\n",
    "\n",
    "class MinerNodeNaive: \n",
    "    def __init__(self, name, compute):\n",
    "        self.name = name \n",
    "        self.compute = compute\n",
    "    \n",
    "    def try_hash(self, diff_value, chain):\n",
    "        last_block = chain[-1]\n",
    "        difficulty = generate_difficulty_bound(diff_value)\n",
    "        date_now = date.datetime.now()\n",
    "        this_index = last_block.index + 1\n",
    "        this_timestamp = date_now\n",
    "        this_data = \"Hey! I'm block \" + str(this_index)\n",
    "        this_hash = last_block.hash\n",
    "        new_block = Block(this_index, this_timestamp, this_data, this_hash)\n",
    "        if int(new_block.hash, 16) < difficulty:\n",
    "            chain.append(new_block)\n",
    "            # Tell everyone about it!\n",
    "            print(\"Block #{} has been added to the blockchain!\".format(new_block.index))\n",
    "            print(\"Block found by: {}\".format(self.name))\n",
    "            print(\"Hash: {}\\n\".format(new_block.hash))\n",
    "\n",
    "\n",
    "#This class MinerNodeNaive defines a simple, naive blockchain miner node that can attempt to mine new blocks and add them to a blockchain. \n",
    "#The class is initialized with a name attribute to identify the node and a compute attribute that doesn't seem to be utilized within the class.\n",
    "#The try_hash method takes in a difficulty value and a blockchain as arguments, and attempts to mine a new block using various parameters including a new index (one greater than the index of the last block in the chain), a timestamp indicating the current time, some placeholder data, and the hash of the previous block in the chain."
   ]
  },
  {
   "attachments": {},
   "cell_type": "markdown",
   "metadata": {},
   "source": [
    "#### 5.1 Generate multiple mining peers\n",
    "Generate five mining peers with different compute power. Use a for loop to generate an array of 5 miners; miners = [mine1, mine2, mine3, mine4, mine5]\n",
    "\n",
    "Use comp_pow = random.randint to generate random numbers and assign them to five peers.\n",
    "For each miner in miners and each number in comp_pow assign MinerNodeNaive() function"
   ]
  },
  {
   "cell_type": "code",
   "execution_count": 45,
   "metadata": {},
   "outputs": [
    {
     "name": "stdout",
     "output_type": "stream",
     "text": [
      "{'name': 'mine1', 'compute_power': 9}\n",
      "{'name': 'mine2', 'compute_power': 6}\n",
      "{'name': 'mine3', 'compute_power': 6}\n",
      "{'name': 'mine4', 'compute_power': 1}\n",
      "{'name': 'mine5', 'compute_power': 7}\n"
     ]
    },
    {
     "data": {
      "text/plain": [
       "[<__main__.MinerNodeNaive at 0x13a4ec7f0>,\n",
       " <__main__.MinerNodeNaive at 0x13a4eea70>,\n",
       " <__main__.MinerNodeNaive at 0x13a4ee290>,\n",
       " <__main__.MinerNodeNaive at 0x13a466a70>,\n",
       " <__main__.MinerNodeNaive at 0x13a466ec0>]"
      ]
     },
     "execution_count": 45,
     "metadata": {},
     "output_type": "execute_result"
    }
   ],
   "source": [
    "import random\n",
    "# Initialize an empty list to store miners\n",
    "miners = []\n",
    "\n",
    "# Generate five miners with random compute power\n",
    "for i in range(1, 6):\n",
    "    miner_name = f\"mine{i}\"\n",
    "    comp_pow = random.randint(1, 10)  # You can adjust the range as needed\n",
    "    globals()[f\"miner{i}\"] = {'name': miner_name, 'compute_power': comp_pow}\n",
    "    print(globals()[f\"miner{i}\"])\n",
    "    globals()[f\"miner{i}\"] = MinerNodeNaive(globals()[f\"miner{i}\"]['name'],globals()[f\"miner{i}\"]['compute_power'])\n",
    "    miners.append(globals()[f\"miner{i}\"])\n",
    "\n",
    "miners"
   ]
  },
  {
   "attachments": {},
   "cell_type": "markdown",
   "metadata": {},
   "source": [
    "#### 5.2 Create a compute and mining simulation\n",
    "\n",
    "This function will create a random mining pool. Define compute_simulation(miners)\n",
    "\n",
    "Create an empty array com_array.\n",
    "Using a miner in miners and that miner’s compute power, replicate miner and append it to com_array, generating the random peer group.\n",
    "Return this compute array.\n"
   ]
  },
  {
   "cell_type": "code",
   "execution_count": 46,
   "metadata": {},
   "outputs": [],
   "source": [
    "def compute_simulation(miners):\n",
    "    # create an empty array\n",
    "    com_array = []\n",
    "\n",
    "    for miner in miners:\n",
    "        for i in range(miner.compute):\n",
    "            com_array.append(miner.name)\n",
    "    return com_array\n",
    "\n",
    "compute_simulation_array = compute_simulation(miners)\n",
    "random.shuffle(compute_simulation_array)"
   ]
  },
  {
   "attachments": {},
   "cell_type": "markdown",
   "metadata": {},
   "source": [
    "#### 5.3 Difficulty list\n",
    "Generate an array, difficult_list, of random numbers between 2 to 6 spanning the length of the chain (number of blocks)."
   ]
  },
  {
   "cell_type": "code",
   "execution_count": 53,
   "metadata": {},
   "outputs": [
    {
     "name": "stdout",
     "output_type": "stream",
     "text": [
      "[3, 5, 6, 6, 6, 6, 5, 6, 4, 5]\n"
     ]
    }
   ],
   "source": [
    "numblocks = 10\n",
    "blockchain_distributed = [create_genesis_block()]\n",
    "genesis_block_dist = blockchain_distributed[0]\n",
    "difficult_list = [random.randint(2,6) for i in range(numblocks)]\n",
    "print(difficult_list)"
   ]
  },
  {
   "attachments": {},
   "cell_type": "markdown",
   "metadata": {},
   "source": [
    "#### 5.4 Simulation\n",
    "Using the parameters below generate a blockchain\n",
    "\n",
    "For the length of the chain (range(len(numblocks))) and while blockchain is smaller than numblocks+2.\n",
    "Set next_miner = miner 2.\n",
    "Sample from miners to pick one miner.\n",
    "For miner in miners check if the sampled miner is same as miner name, if yes then set that miner as next_miner.\n",
    "Calculate hash using next miner’s hash function (given above)."
   ]
  },
  {
   "cell_type": "code",
   "execution_count": 54,
   "metadata": {},
   "outputs": [
    {
     "name": "stdout",
     "output_type": "stream",
     "text": [
      "Block #1 has been added to the blockchain!\n",
      "Block found by: mine2\n",
      "Hash: 00053294d155b7d421f873961bd4e86e8deec7b8784287009ba45f73e100c142\n",
      "\n",
      "Block #2 has been added to the blockchain!\n",
      "Block found by: mine2\n",
      "Hash: 00000dcd7a8713dabefb3588ce5a98e592e7f0d49e3f7d205c2fb2535b8bc07a\n",
      "\n",
      "Block #3 has been added to the blockchain!\n",
      "Block found by: mine2\n",
      "Hash: 0000007868619f7062691e2b0dbc62c4a6b73bff1043fd2dde5f514d81da3e18\n",
      "\n",
      "Block #4 has been added to the blockchain!\n",
      "Block found by: mine2\n",
      "Hash: 0000005581857eda8bf758ff1b9bbde607e2cb592fd8fa2b5a321ea437c7e261\n",
      "\n",
      "Block #5 has been added to the blockchain!\n",
      "Block found by: mine2\n",
      "Hash: 0000007912a8741aa8c730447b227cae9d9bfe95ae54e4c389e438c789ec842a\n",
      "\n",
      "Block #6 has been added to the blockchain!\n",
      "Block found by: mine2\n",
      "Hash: 0000000dc907c1ac20f80036d311e97c58316d5365e2e16eb8582963fb623584\n",
      "\n",
      "Block #7 has been added to the blockchain!\n",
      "Block found by: mine2\n",
      "Hash: 000008d69105099553dd458723144b04d0a955e7a3c34e6fce0023390a2ab56b\n",
      "\n",
      "Block #8 has been added to the blockchain!\n",
      "Block found by: mine2\n",
      "Hash: 000000bca906a77d4d87acbb44976fe756f67c094eaefb75d9eea901c0ae8afd\n",
      "\n",
      "Block #9 has been added to the blockchain!\n",
      "Block found by: mine2\n",
      "Hash: 000040e30fd2aec890e6c75ec0b7c911350a841c4978b41fd709d87bb8447032\n",
      "\n",
      "Block #10 has been added to the blockchain!\n",
      "Block found by: mine2\n",
      "Hash: 000000078705d9b03ecce172b3e5f94ad15538f6b7f370b6b8c60a2a3a1901c2\n",
      "\n"
     ]
    }
   ],
   "source": [
    "for i in range(len(difficult_list)):\n",
    "    while len(blockchain_distributed) < i+2:\n",
    "        next_miner = miner2\n",
    "        sampled_miner = random.sample(compute_simulation_array,1)[0]\n",
    "        for miner in miners:\n",
    "            if sampled_miner == next_miner.name:\n",
    "                next_miner = miner\n",
    "        next_miner.try_hash(difficult_list[i], blockchain_distributed)"
   ]
  },
  {
   "cell_type": "code",
   "execution_count": null,
   "metadata": {},
   "outputs": [],
   "source": []
  }
 ],
 "metadata": {
  "kernelspec": {
   "display_name": "base",
   "language": "python",
   "name": "python3"
  },
  "language_info": {
   "codemirror_mode": {
    "name": "ipython",
    "version": 3
   },
   "file_extension": ".py",
   "mimetype": "text/x-python",
   "name": "python",
   "nbconvert_exporter": "python",
   "pygments_lexer": "ipython3",
   "version": "3.10.8"
  },
  "orig_nbformat": 4
 },
 "nbformat": 4,
 "nbformat_minor": 2
}
