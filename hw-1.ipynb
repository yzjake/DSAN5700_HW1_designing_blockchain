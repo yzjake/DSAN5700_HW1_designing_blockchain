{
 "cells": [
  {
   "cell_type": "markdown",
   "metadata": {},
   "source": [
    "### 1 Blockchain Data Structure (15 points)\n",
    "Each blockchain starts with a genesis block. We will need to define this block function in object-oriented python. Here are the main Block components we will need:\n",
    "\n",
    "Index - The index of the block on the chain (zero-indexed).\n",
    "Timestamp – Time (T) when the block was added to the chain.\n",
    "data - The data the block contains (Usually points to the root of a Merkel tree, but we can use a common thread for this).\n",
    "previous_hash - The hash value of the previous block.\n",
    "hash - Hash of this block computed using the hash_block function.\n",
    "nonce - The variable value that we change to alter the hash output (Default value = 0, irrelevant in this section).\n",
    "We will need to define two functions in class Object named Block, and the two functions are __init__() (called dunder init) and blockHash(). The init function takes six inputs, including a self, from the list above (#5 above is the output). The blockHash function takes inputs from init in a string form, appends them, and encodes them through a SHA256 function.\n",
    "\n",
    "Import following libraries before developing the function hashlib, random, datetime, date, time, ipyparallel, numpy, matplotlib. Once done Copy the following code in new cell and run it. If you get valid block prompt your block code is correct."
   ]
  },
  {
   "cell_type": "code",
   "execution_count": 2,
   "metadata": {},
   "outputs": [],
   "source": [
    "import hashlib as hasher\n",
    "import random as rand\n",
    "import time\n",
    "import datetime as date\n",
    "import ipyparallel as ipp\n",
    "import numpy as np\n",
    "import pandas as pd\n",
    "import matplotlib.pyplot as plt"
   ]
  },
  {
   "cell_type": "code",
   "execution_count": 3,
   "metadata": {},
   "outputs": [],
   "source": [
    "class Block:\n",
    "    def __init__(self,index,timestamp,data, previous_hash,nonce=0):\n",
    "        self.index=index\n",
    "        self.timestamp = timestamp\n",
    "        self.data= data\n",
    "        self.nonce = nonce\n",
    "        self.previous_hash=previous_hash\n",
    "        self.hash=self.hash_block()\n",
    "\n",
    "    def hash_block(self):\n",
    "        sha=hasher.sha256()\n",
    "        block_hash=(str(self.index) + \n",
    "                    str(self.timestamp) +\n",
    "                    str(self.data) +\n",
    "                    str(self.previous_hash) +\n",
    "                    str(self.nonce)\n",
    "                    )\n",
    "        block_hash = block_hash.encode('utf-8')\n",
    "        sha.update(block_hash)\n",
    "        return sha.hexdigest()\n",
    "        print(sha.hexdigest())"
   ]
  },
  {
   "cell_type": "code",
   "execution_count": 4,
   "metadata": {},
   "outputs": [
    {
     "name": "stdout",
     "output_type": "stream",
     "text": [
      "260b5039394689051b599484df495d79a6a33d22a3ca37af72656d8cdfc6fcd5\n"
     ]
    }
   ],
   "source": [
    "block_time = '2022-02-13 23:59:00'\n",
    "data = 'Blockchain For Data Science'\n",
    "previous_hash = '9136cfeb0c77b41e1e86cb9940ca9bb65f7aca4e8e366a8ecf9226b735e0c323'\n",
    "index = 1\n",
    "new_block= Block(index,block_time, data, previous_hash)\n",
    "print(new_block.hash)"
   ]
  },
  {
   "cell_type": "code",
   "execution_count": 5,
   "metadata": {},
   "outputs": [
    {
     "name": "stdout",
     "output_type": "stream",
     "text": [
      "This is a valid Block\n"
     ]
    }
   ],
   "source": [
    "def block_validation(index, block_time, data, previous_hash):\n",
    "    new_block = Block(index, block_time, data, previous_hash)\n",
    "    check_string = '260b5039394689051b599484df495d79a6a33d22a3ca37af72656d8cdfc6fcd5'\n",
    "    print_statement = \"This is a valid Block\" if str(new_block.hash) == check_string else \"Please Check your work, this is incorrect.\"\n",
    "    print(print_statement)\n",
    "    \n",
    "block_time = '2022-02-13 23:59:00'\n",
    "data = 'Blockchain For Data Science'\n",
    "previous_hash = '9136cfeb0c77b41e1e86cb9940ca9bb65f7aca4e8e366a8ecf9226b735e0c323'\n",
    "index = 1\n",
    "    \n",
    "block_validation(index, block_time, data, previous_hash)"
   ]
  },
  {
   "cell_type": "markdown",
   "metadata": {},
   "source": [
    "### 2 Creating a chain out of single blocks\n",
    "Now that we have our class Block completed, we need to build a chain out of them. Define a function that creates a genesis_block(). This will generate the first block of the chain. Then create the function new_block(), which builds a new block on top of a given block.\n",
    "\n",
    "The genesis_block() function has index = 0, timestamp = Now (whenever the function is being called), data = \"Genesis Block\", previous_hash = \"0\" and a return. Be careful with NOW function (it requires datetime from date package).\n",
    "\n",
    "New_block() function will take inputs:\n",
    "\n",
    "Last_block = an instance of class Block that is the block that we’re building our next block on top of\n",
    "index = index of last_block + 1\n",
    "timestamp = Now (whenever the function is being called)\n",
    "data = “Block {index} generated” (for example block w/ index 5 would have data: “Block 5 generated”)\n",
    "previous_hash = hash of last_block\n",
    "Once the function is generated, use the following code to test the validity"
   ]
  },
  {
   "cell_type": "code",
   "execution_count": 6,
   "metadata": {},
   "outputs": [],
   "source": [
    "def create_genesis_block():\n",
    "    return Block(0,date.datetime.now(),\"Genesis Block\",\"0\")\n",
    "\n",
    "def next_block(last_block,nonce=0):\n",
    "    this_index=last_block.index + 1\n",
    "    this_timestamp = date.datetime.now()\n",
    "    this_data = \"Block \"+ str(this_index)+ \" generated\"\n",
    "    this_prevhash= last_block.hash\n",
    "    return Block(this_index, this_timestamp, this_data,this_prevhash)\n",
    "\n",
    "genesis_block=create_genesis_block()\n"
   ]
  },
  {
   "cell_type": "code",
   "execution_count": 7,
   "metadata": {},
   "outputs": [
    {
     "name": "stdout",
     "output_type": "stream",
     "text": [
      "Valid Genesis block\n"
     ]
    }
   ],
   "source": [
    "def genesis_validation(genesis_block):\n",
    "    block_1 = next_block(genesis_block)\n",
    "    if block_1.index == 1 and block_1.data == \"Block 1 generated\" and block_1.previous_hash == genesis_block.hash and str(type(block_1.timestamp)) == \"<class 'datetime.datetime'>\":\n",
    "        print(\"Valid Genesis block\" )\n",
    "    else:\n",
    "        print(\"Check the code, not a valid genesis block:(\")\n",
    "\n",
    "genesis_validation(genesis_block)"
   ]
  },
  {
   "cell_type": "markdown",
   "metadata": {},
   "source": [
    "### 3 Generating a complete Blockchain\n",
    "We now have a complete program required to create a chain. We need variables blockchain, previous_block, and num_blocks functions to generate a chain for a specified number of blocks. Use num_blocks as 10.\n",
    "\n",
    "Blockchain is used to initialize with the genesis block inside, initialied as a list.\n",
    "previous_block – points to the genesis block\n",
    "num_blocks – the specific number of blocks to add to the chain. For the assignment, use 10.\n",
    "We want to complete the implementation of the function complete_chain(). It will take the above three inputs, which correspond to the initializations that we made.\n",
    "\n",
    "The function will need a for loop from 0 to numblocks. Inside the loop, we will use newblock() function from #2 to add to the block list.\n",
    "Once the block is generated, we will append it to the blockchain array generated above.\n",
    "We will now set the block from step 1 as previous_block.\n",
    "Print (\"the block #{} is added to the blockchain\".format(addedblock.index)).\n",
    "Print(\"Hash : {}\\n\".format(addedblock.hash)).\n",
    "You will see ten blocks with their hashes."
   ]
  },
  {
   "cell_type": "code",
   "execution_count": 10,
   "metadata": {},
   "outputs": [
    {
     "name": "stdout",
     "output_type": "stream",
     "text": [
      "Block #1 is added to the blockchain\n",
      "Hash : c69d63c41f35930d677a1247551bc8fe290b2d7f78015634bf4303c831937c06\n",
      "\n",
      "Block #2 is added to the blockchain\n",
      "Hash : 7474915d61e82ad772a4129699709052b527a7bb063f490ad11e1cdc8fcb502b\n",
      "\n",
      "Block #3 is added to the blockchain\n",
      "Hash : 604572bc23d6a6a45ed1cb6d28631a93501e6865726cd410fb5c12686fc1ee42\n",
      "\n",
      "Block #4 is added to the blockchain\n",
      "Hash : 133d4d1e4292e9b7eb9874feaae71c754609e4e2c989747a84efeb13a3faa263\n",
      "\n",
      "Block #5 is added to the blockchain\n",
      "Hash : 203558dd4a805f8c978b82bc10dba12aa9b020f55f08e4c4727ee378214a8784\n",
      "\n",
      "Block #6 is added to the blockchain\n",
      "Hash : 649fc1e31f2cd0110e4519653ed70d3e45e33bd3063752c058095fedb9fa57f9\n",
      "\n",
      "Block #7 is added to the blockchain\n",
      "Hash : f2b811028fddce1198b73f5b6c20e64443ed01812d6c304cbb38cf517c8f2279\n",
      "\n",
      "Block #8 is added to the blockchain\n",
      "Hash : 4143c8beb73b6f02fea9c0c4bf74c7e1c23a3e3d3e08afb258a869276d11ece6\n",
      "\n",
      "Block #9 is added to the blockchain\n",
      "Hash : 31d5f6ab423d6ca2933bed6d8e90de0482890be9bcd8f097eabbb05889cf5680\n",
      "\n",
      "Block #10 is added to the blockchain\n",
      "Hash : 06ba0ceabb071d55a854f41d0eadf647f288b18bedce88526bea53ec20ebd51e\n",
      "\n"
     ]
    }
   ],
   "source": [
    "blockchain=[create_genesis_block()]\n",
    "previous_block = blockchain[0]\n",
    "\n",
    "num_blocks=10\n",
    "\n",
    "def complete_chain(num_blocks,blockchain,previous_block):\n",
    "    for i in range(0, num_blocks):\n",
    "        addedblock = next_block(previous_block)\n",
    "        blockchain.append(addedblock)\n",
    "        previous_block=addedblock\n",
    "\n",
    "        print(\"Block #{} is added to the blockchain\".format(addedblock.index))\n",
    "        print(\"Hash : {}\\n\".format(addedblock.hash))\n",
    "\n",
    "complete_chain(num_blocks,blockchain, previous_block)"
   ]
  },
  {
   "cell_type": "markdown",
   "metadata": {},
   "source": [
    "Hello from Niko\n",
    "This is a test, please ignore."
   ]
  }
 ],
 "metadata": {
  "kernelspec": {
   "display_name": "base",
   "language": "python",
   "name": "python3"
  },
  "language_info": {
   "codemirror_mode": {
    "name": "ipython",
    "version": 3
   },
   "file_extension": ".py",
   "mimetype": "text/x-python",
   "name": "python",
   "nbconvert_exporter": "python",
   "pygments_lexer": "ipython3",
   "version": "3.10.9"
  },
  "orig_nbformat": 4
 },
 "nbformat": 4,
 "nbformat_minor": 2
}
